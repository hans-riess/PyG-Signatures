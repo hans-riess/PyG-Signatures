{
 "cells": [
  {
   "cell_type": "markdown",
   "metadata": {},
   "source": [
    "## Testing"
   ]
  },
  {
   "cell_type": "code",
   "execution_count": 1,
   "metadata": {},
   "outputs": [],
   "source": [
    "import torch\n",
    "from pygsig.graph import CustomStaticGraphTemporalSignal\n",
    "from torch_geometric_temporal.signal import StaticGraphTemporalSignal\n",
    "\n",
    "# Create graph\n",
    "num_nodes = 100\n",
    "num_edges = 40\n",
    "edge_index = torch.randint(0, num_nodes, (2, num_edges))\n",
    "edge_weight = torch.rand(num_edges)\n",
    "\n",
    "\n",
    "snapshot_count = 10\n",
    "num_node_features = 5\n",
    "features = [torch.randn(num_nodes, num_node_features) for _ in range(snapshot_count)]\n",
    "targets = [torch.randint(0,2,(num_nodes,),dtype=torch.float) for _ in range(snapshot_count)]\n",
    "pos_dim = 2\n",
    "positions = torch.rand(num_nodes, pos_dim,dtype=torch.double)\n",
    "\n",
    "dataset = CustomStaticGraphTemporalSignal(edge_index,edge_weight,features,targets,positions)\n"
   ]
  },
  {
   "cell_type": "markdown",
   "metadata": {},
   "source": [
    "## Subduction Zone"
   ]
  },
  {
   "cell_type": "code",
   "execution_count": 2,
   "metadata": {},
   "outputs": [],
   "source": [
    "# packages\n",
    "import torch\n",
    "import pandas as pd\n",
    "from pygsig.datasets.subduction import SubductionZone\n",
    "import numpy as np\n",
    "import networkx as nx\n",
    "import matplotlib.pyplot as plt\n",
    "import seaborn as sns\n",
    "from torch_geometric.utils import to_networkx\n"
   ]
  },
  {
   "cell_type": "code",
   "execution_count": 3,
   "metadata": {},
   "outputs": [],
   "source": [
    "# Download data\n",
    "poly_path='datasets/subduction/polygon_large.geojson' # region of interest\n",
    "data_path='datasets/subduction/site_data_large.geojson' # earthquake data\n",
    "site_path='datasets/subduction/site_location_large.geojson' # site data\n",
    "start_date=pd.Timestamp('2008-01-01 11:59:00+0000', tz='UTC')\n",
    "end_date=pd.Timestamp('2023-12-31 11:59:00+0000', tz='UTC')\n",
    "dataset = SubductionZone(poly_path=poly_path,\n",
    "                         data_path=data_path,\n",
    "                         site_path=site_path,\n",
    "                         start_date=start_date, end_date=end_date,redownload=False)"
   ]
  },
  {
   "cell_type": "code",
   "execution_count": 4,
   "metadata": {},
   "outputs": [],
   "source": [
    "# Load data\n",
    "seq_data = dataset.load_data(task_name='depth',r=40e3)"
   ]
  },
  {
   "cell_type": "code",
   "execution_count": 7,
   "metadata": {},
   "outputs": [],
   "source": [
    "import torch\n",
    "import torch.nn as nn\n",
    "import torch.optim as optim\n",
    "from sklearn.metrics import accuracy_score,precision_score,recall_score,f1_score,balanced_accuracy_score,confusion_matrix\n",
    "from pygsig.models import GCNClassifier, MLPClassifier,ChebNetClassifier\n",
    "import torch_geometric.transforms as T\n",
    "from pygsig.signature import SignatureFeatures\n",
    "from pygsig.graph import RandomNodeSplit\n",
    "from sklearn.preprocessing import StandardScaler, MinMaxScaler\n",
    "\n",
    "\n",
    "# Preprocessing\n",
    "num_splits = 1\n",
    "signature_transform = SignatureFeatures(seq_data.num_node_features,sig_depth=4,normalize=True)\n",
    "random_split = RandomNodeSplit(num_splits=num_splits,train_ratio=0.6,eval_ratio=0.0,unlabeled_data=True)\n",
    "transform = T.Compose([signature_transform,random_split])\n",
    "data = transform(seq_data)"
   ]
  },
  {
   "cell_type": "code",
   "execution_count": null,
   "metadata": {},
   "outputs": [],
   "source": [
    "scaler = StandardScaler()\n",
    "data.y= torch.tensor(scaler.fit_transform(data.y.reshape(-1,1)).reshape(-1),dtype=torch.float64)\n"
   ]
  },
  {
   "cell_type": "code",
   "execution_count": null,
   "metadata": {},
   "outputs": [
    {
     "ename": "TypeError",
     "evalue": "super(type, obj): obj must be an instance or subtype of type",
     "output_type": "error",
     "traceback": [
      "\u001b[0;31m---------------------------------------------------------------------------\u001b[0m",
      "\u001b[0;31mTypeError\u001b[0m                                 Traceback (most recent call last)",
      "Cell \u001b[0;32mIn[9], line 40\u001b[0m\n\u001b[1;32m     37\u001b[0m \u001b[38;5;28;01mfor\u001b[39;00m split \u001b[38;5;129;01min\u001b[39;00m \u001b[38;5;28mrange\u001b[39m(data\u001b[38;5;241m.\u001b[39mnum_splits):\n\u001b[1;32m     38\u001b[0m     \u001b[38;5;28;01mfor\u001b[39;00m trial \u001b[38;5;129;01min\u001b[39;00m \u001b[38;5;28mrange\u001b[39m(num_trials):\n\u001b[1;32m     39\u001b[0m         \u001b[38;5;66;03m# Model\u001b[39;00m\n\u001b[0;32m---> 40\u001b[0m         model \u001b[38;5;241m=\u001b[39m \u001b[43mGCNRegressor\u001b[49m\u001b[43m(\u001b[49m\u001b[43mnum_channels\u001b[49m\u001b[43m,\u001b[49m\u001b[43mprob_dropout\u001b[49m\u001b[43m)\u001b[49m\n\u001b[1;32m     41\u001b[0m         optimizer \u001b[38;5;241m=\u001b[39m optim\u001b[38;5;241m.\u001b[39mAdam(model\u001b[38;5;241m.\u001b[39mparameters(), lr\u001b[38;5;241m=\u001b[39mlearning_rate, weight_decay\u001b[38;5;241m=\u001b[39mweight_decay)\n\u001b[1;32m     42\u001b[0m         train_mask \u001b[38;5;241m=\u001b[39m data\u001b[38;5;241m.\u001b[39mtrain_mask[split]\n",
      "File \u001b[0;32m~/Documents/Code/PyG-Signatures/pygsig/models.py:61\u001b[0m, in \u001b[0;36mGCNRegressor.__init__\u001b[0;34m(self, num_channels, p_dropout)\u001b[0m\n\u001b[1;32m     60\u001b[0m \u001b[38;5;28;01mdef\u001b[39;00m \u001b[38;5;21m__init__\u001b[39m(\u001b[38;5;28mself\u001b[39m, num_channels,p_dropout\u001b[38;5;241m=\u001b[39m\u001b[38;5;241m0.5\u001b[39m):\n\u001b[0;32m---> 61\u001b[0m     \u001b[38;5;28;43msuper\u001b[39;49m\u001b[43m(\u001b[49m\u001b[43mGCNClassifier\u001b[49m\u001b[43m,\u001b[49m\u001b[43m \u001b[49m\u001b[38;5;28;43mself\u001b[39;49m\u001b[43m)\u001b[49m\u001b[38;5;241m.\u001b[39m\u001b[38;5;21m__init__\u001b[39m()\n\u001b[1;32m     62\u001b[0m     \u001b[38;5;28mself\u001b[39m\u001b[38;5;241m.\u001b[39mnum_channels \u001b[38;5;241m=\u001b[39m num_channels\n\u001b[1;32m     63\u001b[0m     \u001b[38;5;28mself\u001b[39m\u001b[38;5;241m.\u001b[39mnum_layers \u001b[38;5;241m=\u001b[39m \u001b[38;5;28mlen\u001b[39m(num_channels) \u001b[38;5;241m-\u001b[39m \u001b[38;5;241m1\u001b[39m\n",
      "\u001b[0;31mTypeError\u001b[0m: super(type, obj): obj must be an instance or subtype of type"
     ]
    }
   ],
   "source": [
    "import torch\n",
    "import torch.nn as nn\n",
    "import torch.optim as optim\n",
    "from sklearn.metrics import accuracy_score,precision_score,recall_score,f1_score,balanced_accuracy_score,confusion_matrix\n",
    "from models import GCNClassifier, MLPClassifier,ChebNetClassifier\n",
    "import torch_geometric.transforms as T\n",
    "from signature import SignatureFeatures\n",
    "from pygsig.graph import RandomNodeSplit\n",
    "from sklearn.preprocessing import StandardScaler, MinMaxScaler\n",
    "\n",
    "\n",
    "# Preprocessing\n",
    "num_splits = 1\n",
    "signature_transform = SignatureFeatures(seq_data.num_node_features,sig_depth=4,normalize=True)\n",
    "random_split = RandomNodeSplit(num_splits=num_splits,train_ratio=0.6,eval_ratio=0.0,unlabeled_data=True)\n",
    "transform = T.Compose([signature_transform,random_split])\n",
    "data = transform(seq_data)\n",
    "\n",
    "# Hyperparameters\n",
    "num_trials = 10\n",
    "num_epochs = 1000\n",
    "learning_rate = 1e-3\n",
    "weight_decay = 5e-4\n",
    "prob_dropout = 0.0\n",
    "num_channels = [data.num_node_features,64,32,16,num_classes]\n",
    "\n",
    "\n",
    "train_losses = np.zeros([data.num_splits,num_trials,num_epochs])\n",
    "test_losses = np.zeros([data.num_splits,num_trials,num_epochs])\n",
    "accuracy_scores = np.zeros([data.num_splits,num_trials])\n",
    "balanced_accuracy_scores = np.zeros([data.num_splits,num_trials])\n",
    "precision_scores = np.zeros([data.num_splits,num_trials])\n",
    "recall_scores = np.zeros([data.num_splits,num_trials])\n",
    "f1_scores = np.zeros([data.num_splits,num_trials])\n",
    "confusion_matrices = np.zeros([data.num_splits,num_trials,2,2])\n",
    "\n",
    "for split in range(data.num_splits):\n",
    "    for trial in range(num_trials):\n",
    "        # Model\n",
    "        model = GCNClassifier(num_channels,prob_dropout)\n",
    "        optimizer = optim.Adam(model.parameters(), lr=learning_rate, weight_decay=weight_decay)\n",
    "        train_mask = data.train_mask[split]\n",
    "        eval_mask = data.eval_mask[split]\n",
    "        test_mask = data.test_mask[split]\n",
    "        criteria = nn.CrossEntropyLoss()\n",
    "        \n",
    "        for epoch in range(1,num_epochs+1):\n",
    "            # Training\n",
    "            model.train()\n",
    "            optimizer.zero_grad()\n",
    "            out = model(data.x, data.edge_index, data.edge_attr)\n",
    "            train_loss = criteria(out[train_mask], data.y[train_mask])\n",
    "            train_losses[split,trial,epoch-1] = train_loss.item()\n",
    "            train_loss.backward()\n",
    "            optimizer.step()\n",
    "\n",
    "            # Evaluation\n",
    "            model.eval()\n",
    "            with torch.no_grad():\n",
    "                out = model(data.x, data.edge_index, data.edge_attr)\n",
    "                test_loss = criteria(out[test_mask], data.y[test_mask])\n",
    "                test_losses[split,trial,epoch-1] = test_loss.item()\n",
    "\n",
    "            # Results\n",
    "            if epoch % 100 == 0:\n",
    "                # print(f'Split {split}, Trial {trial}, Epoch {epoch}, Train Loss: {train_loss.item():.4f}, Test Loss: {test_loss.item():.4f}')\n",
    "                continue\n",
    "        \n",
    "        # Testing\n",
    "        model.eval()\n",
    "        with torch.no_grad():\n",
    "            out = model(data.x, data.edge_index, data.edge_attr)\n",
    "            y_pred = torch.argmax(out[test_mask],dim=-1)\n",
    "            y_true = data.y[test_mask]\n",
    "            accuracy_scores[split,trial] = accuracy_score(y_true,y_pred)\n",
    "            balanced_accuracy_scores[split,trial] = balanced_accuracy_score(y_true,y_pred)\n",
    "            precision_scores[split,trial] = precision_score(y_true,y_pred,zero_division=0)\n",
    "            recall_scores[split,trial] = recall_score(y_true,y_pred)\n",
    "            f1_scores[split,trial] = f1_score(y_true,y_pred)\n",
    "            confusion_matrices[split,trial,:,:] = confusion_matrix(y_true,y_pred)\n",
    "\n",
    "results = (f\"Accuracy: {np.mean(accuracy_scores):.3f} ± {np.std(accuracy_scores):.3f}, \",\n",
    "f\"Balanced Accuracy: {np.mean(balanced_accuracy_scores):.3f} ± {np.std(balanced_accuracy_scores):.3f}, \",\n",
    "f\"Precision: {np.mean(precision_scores):.3f} ± {np.std(precision_scores):.3f}, \",\n",
    "f\"Recall: {np.mean(recall_scores):.3f} ± {np.std(recall_scores):.3f}, \",\n",
    "f\"F1: {np.mean(f1_scores):.3f} ± {np.std(f1_scores):.3f}\")\n",
    "\n",
    "print(*results)"
   ]
  },
  {
   "cell_type": "code",
   "execution_count": null,
   "metadata": {},
   "outputs": [
    {
     "name": "stdout",
     "output_type": "stream",
     "text": [
      "Positive test nodes: 7, Negative test nodes: 5\n",
      "Positive train nodes: 4, Negative train nodes: 13\n"
     ]
    }
   ],
   "source": [
    "pos_test_nodes, neg_train_nodes = data.y[test_mask].numpy().sum(),data.y[test_mask].shape[0]-data.y[test_mask].numpy().sum()\n",
    "print(f\"Positive test nodes: {pos_test_nodes}, Negative test nodes: {neg_train_nodes}\")\n",
    "pos_train_nodes, neg_train_nodes = data.y[train_mask].numpy().sum(),data.y[train_mask].shape[0]-data.y[train_mask].numpy().sum()\n",
    "print(f\"Positive train nodes: {pos_train_nodes}, Negative train nodes: {neg_train_nodes}\")\n"
   ]
  },
  {
   "cell_type": "code",
   "execution_count": null,
   "metadata": {},
   "outputs": [],
   "source": [
    "data.y[test_mask].numpy().sum(),data.y[test_mask].shape[0]-data.y[test_mask].numpy().sum()"
   ]
  },
  {
   "cell_type": "code",
   "execution_count": null,
   "metadata": {},
   "outputs": [
    {
     "data": {
      "image/png": "[encoded data removed]",
      "text/plain": [
       "<Figure size 640x480 with 1 Axes>"
      ]
     },
     "metadata": {},
     "output_type": "display_data"
    }
   ],
   "source": [
    "sns.set_theme()\n",
    "mean_train_losses = np.mean(train_losses, axis=(0, 1))\n",
    "std_train_losses = np.std(train_losses, axis=(0, 1))\n",
    "mean_test_losses = np.mean(test_losses, axis=(0, 1))\n",
    "std_test_losses = np.std(test_losses, axis=(0, 1))\n",
    "\n",
    "sns.lineplot(x=np.arange(num_epochs), y=mean_train_losses, label='Train Loss')\n",
    "plt.fill_between(np.arange(num_epochs), mean_train_losses-std_train_losses, mean_train_losses+std_train_losses, alpha=0.5)\n",
    "sns.lineplot(x=np.arange(num_epochs), y=mean_test_losses, label='Test Loss')\n",
    "plt.fill_between(np.arange(num_epochs), mean_test_losses-std_test_losses, mean_test_losses+std_test_losses, alpha=0.5)\n",
    "plt.ylabel('Loss')\n",
    "plt.xlabel('Epoch')\n",
    "plt.show()"
   ]
  },
  {
   "cell_type": "code",
   "execution_count": null,
   "metadata": {},
   "outputs": [
    {
     "data": {
      "image/png": "[encoded data removed]",
      "text/plain": [
       "<Figure size 640x480 with 2 Axes>"
      ]
     },
     "metadata": {},
     "output_type": "display_data"
    }
   ],
   "source": [
    "from sklearn.metrics import ConfusionMatrixDisplay\n",
    "cm = np.mean(np.mean(np.array(confusion_matrices),axis=0),axis=0)\n",
    "cm_display = ConfusionMatrixDisplay(cm).plot()"
   ]
  },
  {
   "cell_type": "markdown",
   "metadata": {},
   "source": [
    "## Signature Aggregation"
   ]
  },
  {
   "cell_type": "code",
   "execution_count": 1,
   "metadata": {},
   "outputs": [],
   "source": [
    "from signature import SignatureLinear,SignatureAggregation\n",
    "import torch\n",
    "from torch import Tensor\n",
    "from torch_geometric.nn.aggr import Aggregation,SumAggregation\n",
    "from signatory import multi_signature_combine, signature_channels,extract_signature_term"
   ]
  },
  {
   "cell_type": "code",
   "execution_count": 2,
   "metadata": {},
   "outputs": [],
   "source": [
    "# Example usage\n",
    "input_channels = 3\n",
    "depth = 2\n",
    "num_arguments = 4\n",
    "num_batches = 1\n",
    "sig_aggr = SignatureAggregation(input_channels, depth)\n",
    "sum_aggr = SumAggregation()\n",
    "x = torch.randint(10,[num_arguments,signature_channels(input_channels, depth, scalar_term=False)])"
   ]
  },
  {
   "cell_type": "code",
   "execution_count": 3,
   "metadata": {},
   "outputs": [
    {
     "data": {
      "text/plain": [
       "tensor([[2, 0, 5, 4, 2, 2, 3, 6, 3, 4, 8, 6],\n",
       "        [2, 6, 4, 5, 4, 4, 8, 5, 6, 4, 1, 3],\n",
       "        [5, 8, 8, 1, 1, 2, 9, 1, 2, 6, 1, 6],\n",
       "        [7, 6, 9, 0, 9, 3, 4, 6, 2, 0, 2, 8]])"
      ]
     },
     "execution_count": 3,
     "metadata": {},
     "output_type": "execute_result"
    }
   ],
   "source": [
    "x"
   ]
  },
  {
   "cell_type": "code",
   "execution_count": 4,
   "metadata": {},
   "outputs": [
    {
     "name": "stdout",
     "output_type": "stream",
     "text": [
      "[tensor([[2, 0, 5, 4, 2, 2, 3, 6, 3, 4, 8, 6],\n",
      "        [2, 6, 4, 5, 4, 4, 8, 5, 6, 4, 1, 3],\n",
      "        [5, 8, 8, 1, 1, 2, 9, 1, 2, 6, 1, 6],\n",
      "        [7, 6, 9, 0, 9, 3, 4, 6, 2, 0, 2, 8]])]\n"
     ]
    },
    {
     "ename": "ValueError",
     "evalue": "An element of sigtensors is not two-dimensional. Every element must have two dimensions, corresponding to (batch, signature_channels(input_channels, depth, scalar_term))",
     "output_type": "error",
     "traceback": [
      "\u001b[0;31m---------------------------------------------------------------------------\u001b[0m",
      "\u001b[0;31mValueError\u001b[0m                                Traceback (most recent call last)",
      "Cell \u001b[0;32mIn[4], line 2\u001b[0m\n\u001b[1;32m      1\u001b[0m index \u001b[38;5;241m=\u001b[39m torch\u001b[38;5;241m.\u001b[39mtensor([\u001b[38;5;241m0\u001b[39m,\u001b[38;5;241m1\u001b[39m,\u001b[38;5;241m0\u001b[39m,\u001b[38;5;241m1\u001b[39m])\n\u001b[0;32m----> 2\u001b[0m \u001b[43msig_aggr\u001b[49m\u001b[43m(\u001b[49m\u001b[43mx\u001b[49m\u001b[43m)\u001b[49m\n",
      "File \u001b[0;32m/opt/homebrew/lib/python3.11/site-packages/torch_geometric/experimental.py:115\u001b[0m, in \u001b[0;36mdisable_dynamic_shapes.<locals>.decorator.<locals>.wrapper\u001b[0;34m(*args, **kwargs)\u001b[0m\n\u001b[1;32m    112\u001b[0m \u001b[38;5;129m@functools\u001b[39m\u001b[38;5;241m.\u001b[39mwraps(func)\n\u001b[1;32m    113\u001b[0m \u001b[38;5;28;01mdef\u001b[39;00m \u001b[38;5;21mwrapper\u001b[39m(\u001b[38;5;241m*\u001b[39margs, \u001b[38;5;241m*\u001b[39m\u001b[38;5;241m*\u001b[39mkwargs):\n\u001b[1;32m    114\u001b[0m     \u001b[38;5;28;01mif\u001b[39;00m \u001b[38;5;129;01mnot\u001b[39;00m is_experimental_mode_enabled(\u001b[38;5;124m'\u001b[39m\u001b[38;5;124mdisable_dynamic_shapes\u001b[39m\u001b[38;5;124m'\u001b[39m):\n\u001b[0;32m--> 115\u001b[0m         \u001b[38;5;28;01mreturn\u001b[39;00m \u001b[43mfunc\u001b[49m\u001b[43m(\u001b[49m\u001b[38;5;241;43m*\u001b[39;49m\u001b[43margs\u001b[49m\u001b[43m,\u001b[49m\u001b[43m \u001b[49m\u001b[38;5;241;43m*\u001b[39;49m\u001b[38;5;241;43m*\u001b[39;49m\u001b[43mkwargs\u001b[49m\u001b[43m)\u001b[49m\n\u001b[1;32m    117\u001b[0m     \u001b[38;5;28;01mfor\u001b[39;00m required_arg \u001b[38;5;129;01min\u001b[39;00m required_args:\n\u001b[1;32m    118\u001b[0m         index \u001b[38;5;241m=\u001b[39m required_args_pos[required_arg]\n",
      "File \u001b[0;32m/opt/homebrew/lib/python3.11/site-packages/torch_geometric/nn/aggr/base.py:125\u001b[0m, in \u001b[0;36mAggregation.__call__\u001b[0;34m(self, x, index, ptr, dim_size, dim, **kwargs)\u001b[0m\n\u001b[1;32m    122\u001b[0m     dim_size \u001b[38;5;241m=\u001b[39m \u001b[38;5;28mint\u001b[39m(index\u001b[38;5;241m.\u001b[39mmax()) \u001b[38;5;241m+\u001b[39m \u001b[38;5;241m1\u001b[39m \u001b[38;5;28;01mif\u001b[39;00m index\u001b[38;5;241m.\u001b[39mnumel() \u001b[38;5;241m>\u001b[39m \u001b[38;5;241m0\u001b[39m \u001b[38;5;28;01melse\u001b[39;00m \u001b[38;5;241m0\u001b[39m\n\u001b[1;32m    124\u001b[0m \u001b[38;5;28;01mtry\u001b[39;00m:\n\u001b[0;32m--> 125\u001b[0m     \u001b[38;5;28;01mreturn\u001b[39;00m \u001b[38;5;28;43msuper\u001b[39;49m\u001b[43m(\u001b[49m\u001b[43m)\u001b[49m\u001b[38;5;241;43m.\u001b[39;49m\u001b[38;5;21;43m__call__\u001b[39;49m\u001b[43m(\u001b[49m\u001b[43mx\u001b[49m\u001b[43m,\u001b[49m\u001b[43m \u001b[49m\u001b[43mindex\u001b[49m\u001b[38;5;241;43m=\u001b[39;49m\u001b[43mindex\u001b[49m\u001b[43m,\u001b[49m\u001b[43m \u001b[49m\u001b[43mptr\u001b[49m\u001b[38;5;241;43m=\u001b[39;49m\u001b[43mptr\u001b[49m\u001b[43m,\u001b[49m\u001b[43m \u001b[49m\u001b[43mdim_size\u001b[49m\u001b[38;5;241;43m=\u001b[39;49m\u001b[43mdim_size\u001b[49m\u001b[43m,\u001b[49m\n\u001b[1;32m    126\u001b[0m \u001b[43m                            \u001b[49m\u001b[43mdim\u001b[49m\u001b[38;5;241;43m=\u001b[39;49m\u001b[43mdim\u001b[49m\u001b[43m,\u001b[49m\u001b[43m \u001b[49m\u001b[38;5;241;43m*\u001b[39;49m\u001b[38;5;241;43m*\u001b[39;49m\u001b[43mkwargs\u001b[49m\u001b[43m)\u001b[49m\n\u001b[1;32m    127\u001b[0m \u001b[38;5;28;01mexcept\u001b[39;00m (\u001b[38;5;167;01mIndexError\u001b[39;00m, \u001b[38;5;167;01mRuntimeError\u001b[39;00m) \u001b[38;5;28;01mas\u001b[39;00m e:\n\u001b[1;32m    128\u001b[0m     \u001b[38;5;28;01mif\u001b[39;00m index \u001b[38;5;129;01mis\u001b[39;00m \u001b[38;5;129;01mnot\u001b[39;00m \u001b[38;5;28;01mNone\u001b[39;00m:\n",
      "File \u001b[0;32m/opt/homebrew/lib/python3.11/site-packages/torch/nn/modules/module.py:1518\u001b[0m, in \u001b[0;36mModule._wrapped_call_impl\u001b[0;34m(self, *args, **kwargs)\u001b[0m\n\u001b[1;32m   1516\u001b[0m     \u001b[38;5;28;01mreturn\u001b[39;00m \u001b[38;5;28mself\u001b[39m\u001b[38;5;241m.\u001b[39m_compiled_call_impl(\u001b[38;5;241m*\u001b[39margs, \u001b[38;5;241m*\u001b[39m\u001b[38;5;241m*\u001b[39mkwargs)  \u001b[38;5;66;03m# type: ignore[misc]\u001b[39;00m\n\u001b[1;32m   1517\u001b[0m \u001b[38;5;28;01melse\u001b[39;00m:\n\u001b[0;32m-> 1518\u001b[0m     \u001b[38;5;28;01mreturn\u001b[39;00m \u001b[38;5;28;43mself\u001b[39;49m\u001b[38;5;241;43m.\u001b[39;49m\u001b[43m_call_impl\u001b[49m\u001b[43m(\u001b[49m\u001b[38;5;241;43m*\u001b[39;49m\u001b[43margs\u001b[49m\u001b[43m,\u001b[49m\u001b[43m \u001b[49m\u001b[38;5;241;43m*\u001b[39;49m\u001b[38;5;241;43m*\u001b[39;49m\u001b[43mkwargs\u001b[49m\u001b[43m)\u001b[49m\n",
      "File \u001b[0;32m/opt/homebrew/lib/python3.11/site-packages/torch/nn/modules/module.py:1527\u001b[0m, in \u001b[0;36mModule._call_impl\u001b[0;34m(self, *args, **kwargs)\u001b[0m\n\u001b[1;32m   1522\u001b[0m \u001b[38;5;66;03m# If we don't have any hooks, we want to skip the rest of the logic in\u001b[39;00m\n\u001b[1;32m   1523\u001b[0m \u001b[38;5;66;03m# this function, and just call forward.\u001b[39;00m\n\u001b[1;32m   1524\u001b[0m \u001b[38;5;28;01mif\u001b[39;00m \u001b[38;5;129;01mnot\u001b[39;00m (\u001b[38;5;28mself\u001b[39m\u001b[38;5;241m.\u001b[39m_backward_hooks \u001b[38;5;129;01mor\u001b[39;00m \u001b[38;5;28mself\u001b[39m\u001b[38;5;241m.\u001b[39m_backward_pre_hooks \u001b[38;5;129;01mor\u001b[39;00m \u001b[38;5;28mself\u001b[39m\u001b[38;5;241m.\u001b[39m_forward_hooks \u001b[38;5;129;01mor\u001b[39;00m \u001b[38;5;28mself\u001b[39m\u001b[38;5;241m.\u001b[39m_forward_pre_hooks\n\u001b[1;32m   1525\u001b[0m         \u001b[38;5;129;01mor\u001b[39;00m _global_backward_pre_hooks \u001b[38;5;129;01mor\u001b[39;00m _global_backward_hooks\n\u001b[1;32m   1526\u001b[0m         \u001b[38;5;129;01mor\u001b[39;00m _global_forward_hooks \u001b[38;5;129;01mor\u001b[39;00m _global_forward_pre_hooks):\n\u001b[0;32m-> 1527\u001b[0m     \u001b[38;5;28;01mreturn\u001b[39;00m \u001b[43mforward_call\u001b[49m\u001b[43m(\u001b[49m\u001b[38;5;241;43m*\u001b[39;49m\u001b[43margs\u001b[49m\u001b[43m,\u001b[49m\u001b[43m \u001b[49m\u001b[38;5;241;43m*\u001b[39;49m\u001b[38;5;241;43m*\u001b[39;49m\u001b[43mkwargs\u001b[49m\u001b[43m)\u001b[49m\n\u001b[1;32m   1529\u001b[0m \u001b[38;5;28;01mtry\u001b[39;00m:\n\u001b[1;32m   1530\u001b[0m     result \u001b[38;5;241m=\u001b[39m \u001b[38;5;28;01mNone\u001b[39;00m\n",
      "File \u001b[0;32m~/Documents/Code/PyG-Signatures/pygsig/signature.py:72\u001b[0m, in \u001b[0;36mSignatureAggregation.forward\u001b[0;34m(self, x, index, ptr, dim_size, dim, max_num_elements)\u001b[0m\n\u001b[1;32m     70\u001b[0m combined \u001b[38;5;241m=\u001b[39m []\n\u001b[1;32m     71\u001b[0m \u001b[38;5;28;01mfor\u001b[39;00m aggregate \u001b[38;5;129;01min\u001b[39;00m aggregated:\n\u001b[0;32m---> 72\u001b[0m     out \u001b[38;5;241m=\u001b[39m \u001b[38;5;28;43mself\u001b[39;49m\u001b[38;5;241;43m.\u001b[39;49m\u001b[43msignature_combine\u001b[49m\u001b[43m(\u001b[49m\u001b[43maggregate\u001b[49m\u001b[38;5;241;43m.\u001b[39;49m\u001b[43munsqueeze\u001b[49m\u001b[43m(\u001b[49m\u001b[38;5;241;43m0\u001b[39;49m\u001b[43m)\u001b[49m\u001b[43m,\u001b[49m\u001b[43m \u001b[49m\u001b[43minput_channels\u001b[49m\u001b[38;5;241;43m=\u001b[39;49m\u001b[38;5;28;43mself\u001b[39;49m\u001b[38;5;241;43m.\u001b[39;49m\u001b[43minput_channels\u001b[49m\u001b[43m,\u001b[49m\u001b[43m \u001b[49m\u001b[43mdepth\u001b[49m\u001b[38;5;241;43m=\u001b[39;49m\u001b[38;5;28;43mself\u001b[39;49m\u001b[38;5;241;43m.\u001b[39;49m\u001b[43mdepth\u001b[49m\u001b[43m,\u001b[49m\u001b[43m \u001b[49m\u001b[43minverse\u001b[49m\u001b[38;5;241;43m=\u001b[39;49m\u001b[38;5;28;43mself\u001b[39;49m\u001b[38;5;241;43m.\u001b[39;49m\u001b[43minverse\u001b[49m\u001b[43m,\u001b[49m\u001b[43m \u001b[49m\u001b[43mscalar_term\u001b[49m\u001b[38;5;241;43m=\u001b[39;49m\u001b[38;5;28;43mself\u001b[39;49m\u001b[38;5;241;43m.\u001b[39;49m\u001b[43mscalar_term\u001b[49m\u001b[43m)\u001b[49m\n\u001b[1;32m     73\u001b[0m     combined\u001b[38;5;241m.\u001b[39mappend(out)\n\u001b[1;32m     75\u001b[0m \u001b[38;5;28;01mreturn\u001b[39;00m torch\u001b[38;5;241m.\u001b[39mstack(combined, dim\u001b[38;5;241m=\u001b[39m\u001b[38;5;241m0\u001b[39m)\n",
      "File \u001b[0;32m~/Documents/Code/PyG-Signatures/pygsig/signature.py:43\u001b[0m, in \u001b[0;36mSignatureAggregation.signature_combine\u001b[0;34m(self, x, input_channels, depth, inverse, scalar_term)\u001b[0m\n\u001b[1;32m     40\u001b[0m \u001b[38;5;28;01mdef\u001b[39;00m \u001b[38;5;21msignature_combine\u001b[39m(\u001b[38;5;28mself\u001b[39m,x: Tensor, input_channels : \u001b[38;5;28mint\u001b[39m, depth: \u001b[38;5;28mint\u001b[39m, inverse: \u001b[38;5;28mbool\u001b[39m \u001b[38;5;241m=\u001b[39m \u001b[38;5;28;01mFalse\u001b[39;00m, scalar_term: \u001b[38;5;28mbool\u001b[39m \u001b[38;5;241m=\u001b[39m \u001b[38;5;28;01mFalse\u001b[39;00m) \u001b[38;5;241m-\u001b[39m\u001b[38;5;241m>\u001b[39m Tensor:\n\u001b[1;32m     41\u001b[0m     \u001b[38;5;66;03m# combine signatures where dim=0 indexes the tensor list\u001b[39;00m\n\u001b[1;32m     42\u001b[0m     tensor_list \u001b[38;5;241m=\u001b[39m [x[i]\u001b[38;5;241m.\u001b[39munsqueeze(dim\u001b[38;5;241m=\u001b[39m\u001b[38;5;241m0\u001b[39m) \u001b[38;5;28;01mfor\u001b[39;00m i \u001b[38;5;129;01min\u001b[39;00m \u001b[38;5;28mrange\u001b[39m(x\u001b[38;5;241m.\u001b[39mshape[\u001b[38;5;241m0\u001b[39m])]\n\u001b[0;32m---> 43\u001b[0m     \u001b[38;5;28;01mreturn\u001b[39;00m \u001b[43mmulti_signature_combine\u001b[49m\u001b[43m(\u001b[49m\u001b[43mtensor_list\u001b[49m\u001b[43m,\u001b[49m\u001b[43m \u001b[49m\u001b[43minput_channels\u001b[49m\u001b[38;5;241;43m=\u001b[39;49m\u001b[43minput_channels\u001b[49m\u001b[43m,\u001b[49m\u001b[43m \u001b[49m\u001b[43mdepth\u001b[49m\u001b[38;5;241;43m=\u001b[39;49m\u001b[43mdepth\u001b[49m\u001b[43m,\u001b[49m\u001b[43m \u001b[49m\u001b[43minverse\u001b[49m\u001b[38;5;241;43m=\u001b[39;49m\u001b[43minverse\u001b[49m\u001b[43m,\u001b[49m\u001b[43m \u001b[49m\u001b[43mscalar_term\u001b[49m\u001b[38;5;241;43m=\u001b[39;49m\u001b[43mscalar_term\u001b[49m\u001b[43m)\u001b[49m\n",
      "File \u001b[0;32m/opt/homebrew/lib/python3.11/site-packages/signatory/signature_module.py:449\u001b[0m, in \u001b[0;36mmulti_signature_combine\u001b[0;34m(sigtensors, input_channels, depth, inverse, scalar_term)\u001b[0m\n\u001b[1;32m    447\u001b[0m \u001b[38;5;28;01mif\u001b[39;00m inverse:\n\u001b[1;32m    448\u001b[0m     sigtensors \u001b[38;5;241m=\u001b[39m \u001b[38;5;28mreversed\u001b[39m(sigtensors)\n\u001b[0;32m--> 449\u001b[0m \u001b[38;5;28;01mreturn\u001b[39;00m \u001b[43m_SignatureCombineFunction\u001b[49m\u001b[38;5;241;43m.\u001b[39;49m\u001b[43mapply\u001b[49m\u001b[43m(\u001b[49m\u001b[43minput_channels\u001b[49m\u001b[43m,\u001b[49m\u001b[43m \u001b[49m\u001b[43mdepth\u001b[49m\u001b[43m,\u001b[49m\u001b[43m \u001b[49m\u001b[43mscalar_term\u001b[49m\u001b[43m,\u001b[49m\u001b[43m \u001b[49m\u001b[38;5;241;43m*\u001b[39;49m\u001b[43msigtensors\u001b[49m\u001b[43m)\u001b[49m\n",
      "File \u001b[0;32m/opt/homebrew/lib/python3.11/site-packages/torch/autograd/function.py:539\u001b[0m, in \u001b[0;36mFunction.apply\u001b[0;34m(cls, *args, **kwargs)\u001b[0m\n\u001b[1;32m    536\u001b[0m \u001b[38;5;28;01mif\u001b[39;00m \u001b[38;5;129;01mnot\u001b[39;00m torch\u001b[38;5;241m.\u001b[39m_C\u001b[38;5;241m.\u001b[39m_are_functorch_transforms_active():\n\u001b[1;32m    537\u001b[0m     \u001b[38;5;66;03m# See NOTE: [functorch vjp and autograd interaction]\u001b[39;00m\n\u001b[1;32m    538\u001b[0m     args \u001b[38;5;241m=\u001b[39m _functorch\u001b[38;5;241m.\u001b[39mutils\u001b[38;5;241m.\u001b[39munwrap_dead_wrappers(args)\n\u001b[0;32m--> 539\u001b[0m     \u001b[38;5;28;01mreturn\u001b[39;00m \u001b[38;5;28;43msuper\u001b[39;49m\u001b[43m(\u001b[49m\u001b[43m)\u001b[49m\u001b[38;5;241;43m.\u001b[39;49m\u001b[43mapply\u001b[49m\u001b[43m(\u001b[49m\u001b[38;5;241;43m*\u001b[39;49m\u001b[43margs\u001b[49m\u001b[43m,\u001b[49m\u001b[43m \u001b[49m\u001b[38;5;241;43m*\u001b[39;49m\u001b[38;5;241;43m*\u001b[39;49m\u001b[43mkwargs\u001b[49m\u001b[43m)\u001b[49m  \u001b[38;5;66;03m# type: ignore[misc]\u001b[39;00m\n\u001b[1;32m    541\u001b[0m \u001b[38;5;28;01mif\u001b[39;00m \u001b[38;5;28mcls\u001b[39m\u001b[38;5;241m.\u001b[39msetup_context \u001b[38;5;241m==\u001b[39m _SingleLevelFunction\u001b[38;5;241m.\u001b[39msetup_context:\n\u001b[1;32m    542\u001b[0m     \u001b[38;5;28;01mraise\u001b[39;00m \u001b[38;5;167;01mRuntimeError\u001b[39;00m(\n\u001b[1;32m    543\u001b[0m         \u001b[38;5;124m\"\u001b[39m\u001b[38;5;124mIn order to use an autograd.Function with functorch transforms \u001b[39m\u001b[38;5;124m\"\u001b[39m\n\u001b[1;32m    544\u001b[0m         \u001b[38;5;124m\"\u001b[39m\u001b[38;5;124m(vmap, grad, jvp, jacrev, ...), it must override the setup_context \u001b[39m\u001b[38;5;124m\"\u001b[39m\n\u001b[1;32m    545\u001b[0m         \u001b[38;5;124m\"\u001b[39m\u001b[38;5;124mstaticmethod. For more details, please see \u001b[39m\u001b[38;5;124m\"\u001b[39m\n\u001b[1;32m    546\u001b[0m         \u001b[38;5;124m\"\u001b[39m\u001b[38;5;124mhttps://pytorch.org/docs/master/notes/extending.func.html\u001b[39m\u001b[38;5;124m\"\u001b[39m\n\u001b[1;32m    547\u001b[0m     )\n",
      "File \u001b[0;32m/opt/homebrew/lib/python3.11/site-packages/signatory/signature_module.py:365\u001b[0m, in \u001b[0;36m_SignatureCombineFunction.forward\u001b[0;34m(ctx, input_channels, depth, scalar_term, *sigtensors)\u001b[0m\n\u001b[1;32m    363\u001b[0m ctx\u001b[38;5;241m.\u001b[39mscalar_term \u001b[38;5;241m=\u001b[39m scalar_term\n\u001b[1;32m    364\u001b[0m ctx\u001b[38;5;241m.\u001b[39msave_for_backward(\u001b[38;5;241m*\u001b[39msigtensors)\n\u001b[0;32m--> 365\u001b[0m \u001b[38;5;28;01mreturn\u001b[39;00m \u001b[43mimpl\u001b[49m\u001b[38;5;241;43m.\u001b[39;49m\u001b[43msignature_combine_forward\u001b[49m\u001b[43m(\u001b[49m\u001b[38;5;28;43mlist\u001b[39;49m\u001b[43m(\u001b[49m\u001b[43msigtensors\u001b[49m\u001b[43m)\u001b[49m\u001b[43m,\u001b[49m\u001b[43m \u001b[49m\u001b[43minput_channels\u001b[49m\u001b[43m,\u001b[49m\u001b[43m \u001b[49m\u001b[43mdepth\u001b[49m\u001b[43m,\u001b[49m\u001b[43m \u001b[49m\u001b[43mscalar_term\u001b[49m\u001b[43m)\u001b[49m\n",
      "File \u001b[0;32m/opt/homebrew/lib/python3.11/site-packages/signatory/impl.py:36\u001b[0m, in \u001b[0;36m_wrap.<locals>.wrapped\u001b[0;34m(*args, **kwargs)\u001b[0m\n\u001b[1;32m     34\u001b[0m \u001b[38;5;28;01mdef\u001b[39;00m \u001b[38;5;21mwrapped\u001b[39m(\u001b[38;5;241m*\u001b[39margs, \u001b[38;5;241m*\u001b[39m\u001b[38;5;241m*\u001b[39mkwargs):\n\u001b[1;32m     35\u001b[0m     \u001b[38;5;28;01mtry\u001b[39;00m:\n\u001b[0;32m---> 36\u001b[0m         \u001b[38;5;28;01mreturn\u001b[39;00m \u001b[43mfn\u001b[49m\u001b[43m(\u001b[49m\u001b[38;5;241;43m*\u001b[39;49m\u001b[43margs\u001b[49m\u001b[43m,\u001b[49m\u001b[43m \u001b[49m\u001b[38;5;241;43m*\u001b[39;49m\u001b[38;5;241;43m*\u001b[39;49m\u001b[43mkwargs\u001b[49m\u001b[43m)\u001b[49m\n\u001b[1;32m     37\u001b[0m     \u001b[38;5;28;01mexcept\u001b[39;00m \u001b[38;5;167;01mRuntimeError\u001b[39;00m \u001b[38;5;28;01mas\u001b[39;00m e:\n\u001b[1;32m     38\u001b[0m         \u001b[38;5;28;01mraise\u001b[39;00m \u001b[38;5;167;01mValueError\u001b[39;00m(\u001b[38;5;28mstr\u001b[39m(e))\n",
      "\u001b[0;31mValueError\u001b[0m: An element of sigtensors is not two-dimensional. Every element must have two dimensions, corresponding to (batch, signature_channels(input_channels, depth, scalar_term))"
     ]
    }
   ],
   "source": [
    "index = torch.tensor([0,1,0,1])\n",
    "sig_aggr(x)"
   ]
  },
  {
   "cell_type": "code",
   "execution_count": 8,
   "metadata": {},
   "outputs": [
    {
     "data": {
      "text/plain": [
       "tensor([[ 9, 14, 17, 10,  7,  8, 20, 12, 11, 14, 10, 15],\n",
       "        [ 7,  6,  9,  0,  9,  3,  4,  6,  2,  0,  2,  8]])"
      ]
     },
     "execution_count": 8,
     "metadata": {},
     "output_type": "execute_result"
    }
   ],
   "source": [
    "index = torch.tensor([0,0,0,1])\n",
    "sum_aggr(x,index)"
   ]
  },
  {
   "cell_type": "code",
   "execution_count": 16,
   "metadata": {},
   "outputs": [
    {
     "data": {
      "text/plain": [
       "tensor([7, 6, 4])"
      ]
     },
     "execution_count": 16,
     "metadata": {},
     "output_type": "execute_result"
    }
   ],
   "source": [
    "extract_signature_term(x,input_channels,1)"
   ]
  },
  {
   "cell_type": "code",
   "execution_count": 17,
   "metadata": {},
   "outputs": [
    {
     "data": {
      "text/plain": [
       "12"
      ]
     },
     "execution_count": 17,
     "metadata": {},
     "output_type": "execute_result"
    }
   ],
   "source": [
    "signature_channels(input_channels, depth, scalar_term=False)"
   ]
  },
  {
   "cell_type": "code",
   "execution_count": 5,
   "metadata": {},
   "outputs": [
    {
     "data": {
      "text/plain": [
       "tensor([[ 1, 12,  8,  4, 10,  6,  3,  8,  6, 12,  1, 11],\n",
       "        [11,  4,  8,  9, 14,  9, 13, 14, 10, 15, 11,  9]])"
      ]
     },
     "execution_count": 5,
     "metadata": {},
     "output_type": "execute_result"
    }
   ],
   "source": [
    "index = torch.tensor([0,1,1,0])\n",
    "sum_aggr(x,index)"
   ]
  },
  {
   "cell_type": "code",
   "execution_count": 4,
   "metadata": {},
   "outputs": [
    {
     "data": {
      "text/plain": [
       "tensor([[[0, 5, 7, 2, 2, 3, 3, 1, 0, 3, 0, 9],\n",
       "         [1, 7, 1, 2, 8, 3, 0, 7, 6, 9, 1, 2]],\n",
       "\n",
       "        [[5, 4, 1, 8, 7, 6, 8, 6, 1, 6, 5, 2],\n",
       "         [6, 0, 7, 1, 7, 3, 5, 8, 9, 9, 6, 7]]])"
      ]
     },
     "execution_count": 4,
     "metadata": {},
     "output_type": "execute_result"
    }
   ],
   "source": [
    "index = torch.tensor([0,1,1,0])\n",
    "sig_aggr(x,index)"
   ]
  },
  {
   "cell_type": "code",
   "execution_count": null,
   "metadata": {},
   "outputs": [],
   "source": [
    "from typing import Optional, List\n",
    "import torch\n",
    "from torch import Tensor\n",
    "from torch_geometric.nn.aggr import Aggregation\n",
    "from signatory import multi_signature_combine, signature_channels\n",
    "\n",
    "class SignatureCombineAggregation(Aggregation):\n",
    "    def __init__(self, input_channels: int, depth: int, inverse: bool = False, scalar_term: bool = False):\n",
    "        super().__init__()\n",
    "        self.input_channels = input_channels\n",
    "        self.depth = depth\n",
    "        self.inverse = inverse\n",
    "        self.scalar_term = scalar_term\n",
    "\n",
    "    def forward(\n",
    "        self,\n",
    "        x: Tensor,\n",
    "        index: Optional[Tensor] = None,\n",
    "        ptr: Optional[Tensor] = None,\n",
    "        dim_size: Optional[int] = None,\n",
    "        dim: int = -2,\n",
    "        max_num_elements: Optional[int] = None\n",
    "    ) -> Tensor:\n",
    "\n",
    "        # Ensure the input tensor is of shape [N, C]\n",
    "        N, _, C = x.shape\n",
    "        expected_channels = signature_channels(self.input_channels, self.depth, self.scalar_term)\n",
    "        if C != expected_channels:\n",
    "            raise ValueError(f\"Input tensor channels {C} do not match the expected signature channels {expected_channels}\")\n",
    "\n",
    "        # Create a list of tensors of size C from the input tensor\n",
    "        tensors_list = [x[i] for i in range(N)]\n",
    "\n",
    "        # Apply the signatory.multi_signature_combine function\n",
    "        combined = multi_signature_combine(\n",
    "            tensors_list,\n",
    "            input_channels=self.input_channels,\n",
    "            depth=self.depth,\n",
    "            inverse=self.inverse,\n",
    "            scalar_term=self.scalar_term\n",
    "        )\n",
    "\n",
    "        return combined\n",
    "\n",
    "    def reset_parameters(self):\n",
    "        pass"
   ]
  },
  {
   "cell_type": "markdown",
   "metadata": {},
   "source": [
    "## PyG Temporal Datasets"
   ]
  },
  {
   "cell_type": "code",
   "execution_count": 540,
   "metadata": {},
   "outputs": [],
   "source": [
    "import numpy as np\n",
    "from signatory import signature,signature_channels,extract_signature_term,Augment,Signature\n",
    "import torch\n",
    "from torch_geometric_temporal import METRLADatasetLoader,PemsBayDatasetLoader,ChickenpoxDatasetLoader,MTMDatasetLoader\n",
    "from torch_geometric_temporal import StaticGraphTemporalSignal,temporal_signal_split\n",
    "import torch_geometric_temporal.nn as tgnn\n",
    "import torch_geometric.nn as gnn\n",
    "import torch.nn.functional as F\n",
    "import torch.nn as nn\n",
    "from torch_geometric.data import Data"
   ]
  },
  {
   "cell_type": "code",
   "execution_count": 601,
   "metadata": {},
   "outputs": [],
   "source": [
    "num_frames = 32\n",
    "loader = ChickenpoxDatasetLoader()\n",
    "dataset = loader.get_dataset(lags=1)"
   ]
  },
  {
   "cell_type": "code",
   "execution_count": 603,
   "metadata": {},
   "outputs": [
    {
     "data": {
      "text/plain": [
       "torch.Size([20, 1])"
      ]
     },
     "execution_count": 603,
     "metadata": {},
     "output_type": "execute_result"
    }
   ],
   "source": [
    "t = np.random.choice(dataset.snapshot_count)\n",
    "dataset[t].x.shape"
   ]
  },
  {
   "cell_type": "code",
   "execution_count": null,
   "metadata": {},
   "outputs": [],
   "source": [
    "count = 0\n",
    "for snapshot in dataset:\n",
    "    if torch.all(torch.argmax(snapshot.y,dim=1)==torch.argmax(snapshot.y[-1])):\n",
    "        count+=1\n"
   ]
  },
  {
   "cell_type": "code",
   "execution_count": 515,
   "metadata": {},
   "outputs": [
    {
     "data": {
      "text/plain": [
       "tensor([ 2.8571e-02,  3.5474e-01,  2.9544e-01,  7.1057e-01, -6.8308e-01,\n",
       "         2.9544e-01, -2.0865e-01,  2.1339e+00, -1.4244e+00, -8.9064e-01,\n",
       "         1.3926e+00, -1.1575e+00,  7.4022e-01, -6.5342e-01,  1.7187e+00,\n",
       "        -1.1575e+00,  6.5126e-01, -5.0516e-01,  1.1553e+00,  5.9196e-01,\n",
       "        -4.7551e-01, -1.0389e+00, -1.0814e-03,  1.7484e+00, -3.4111e+00,\n",
       "         8.5883e-01, -1.6616e+00, -1.1969e-01,  4.1405e-01, -4.4586e-01,\n",
       "        -1.4934e-01, -3.0733e-02])"
      ]
     },
     "execution_count": 515,
     "metadata": {},
     "output_type": "execute_result"
    }
   ],
   "source": [
    "dataset[1].x[0]"
   ]
  },
  {
   "cell_type": "code",
   "execution_count": 487,
   "metadata": {},
   "outputs": [],
   "source": [
    "def to_static_graph_dataset(dataset: StaticGraphTemporalSignal) -> Data:\n",
    "    num_nodes = dataset[0].num_nodes\n",
    "    num_node_features = dataset[0].num_node_features\n",
    "    seq_length = dataset.snapshot_count\n",
    "    if len(dataset[0].y.shape)>1:\n",
    "        num_node_targets = dataset[0].y.shape[-1]\n",
    "    else:\n",
    "        num_node_targets = 1\n",
    "    x = torch.zeros([num_nodes,seq_length,num_node_features])\n",
    "    y = torch.zeros([num_nodes,seq_length,num_node_targets])\n",
    "    for time,snapshot in enumerate(dataset):\n",
    "        x[:,time,:] = snapshot.x\n",
    "        if len(snapshot.y.shape)>1:\n",
    "            y[:,time,:] = snapshot.y\n",
    "        else:\n",
    "            y[:,time,:] = snapshot.y.unsqueeze(-1)\n",
    "    dataset_static = Data(x=x,y=y,edge_index=dataset.edge_index,edge_attr=dataset.edge_weight)\n",
    "    return dataset_static"
   ]
  },
  {
   "cell_type": "code",
   "execution_count": 493,
   "metadata": {},
   "outputs": [],
   "source": [
    "static_train = to_static_graph_dataset(train_dataset)\n",
    "static_test = to_static_graph_dataset(test_dataset)"
   ]
  },
  {
   "cell_type": "code",
   "execution_count": 593,
   "metadata": {},
   "outputs": [
    {
     "ename": "RuntimeError",
     "evalue": "expand(torch.FloatTensor{[3, 21, 32]}, size=[3, 32]): the number of sizes provided (2) must be greater or equal to the number of dimensions in the tensor (3)",
     "output_type": "error",
     "traceback": [
      "\u001b[0;31m---------------------------------------------------------------------------\u001b[0m",
      "\u001b[0;31mRuntimeError\u001b[0m                              Traceback (most recent call last)",
      "Cell \u001b[0;32mIn[593], line 1\u001b[0m\n\u001b[0;32m----> 1\u001b[0m static_data \u001b[38;5;241m=\u001b[39m \u001b[43mto_static_graph_dataset\u001b[49m\u001b[43m(\u001b[49m\u001b[43mdataset\u001b[49m\u001b[43m)\u001b[49m\n",
      "Cell \u001b[0;32mIn[487], line 12\u001b[0m, in \u001b[0;36mto_static_graph_dataset\u001b[0;34m(dataset)\u001b[0m\n\u001b[1;32m     10\u001b[0m y \u001b[38;5;241m=\u001b[39m torch\u001b[38;5;241m.\u001b[39mzeros([num_nodes,seq_length,num_node_targets])\n\u001b[1;32m     11\u001b[0m \u001b[38;5;28;01mfor\u001b[39;00m time,snapshot \u001b[38;5;129;01min\u001b[39;00m \u001b[38;5;28menumerate\u001b[39m(dataset):\n\u001b[0;32m---> 12\u001b[0m     \u001b[43mx\u001b[49m\u001b[43m[\u001b[49m\u001b[43m:\u001b[49m\u001b[43m,\u001b[49m\u001b[43mtime\u001b[49m\u001b[43m,\u001b[49m\u001b[43m:\u001b[49m\u001b[43m]\u001b[49m \u001b[38;5;241m=\u001b[39m snapshot\u001b[38;5;241m.\u001b[39mx\n\u001b[1;32m     13\u001b[0m     \u001b[38;5;28;01mif\u001b[39;00m \u001b[38;5;28mlen\u001b[39m(snapshot\u001b[38;5;241m.\u001b[39my\u001b[38;5;241m.\u001b[39mshape)\u001b[38;5;241m>\u001b[39m\u001b[38;5;241m1\u001b[39m:\n\u001b[1;32m     14\u001b[0m         y[:,time,:] \u001b[38;5;241m=\u001b[39m snapshot\u001b[38;5;241m.\u001b[39my\n",
      "\u001b[0;31mRuntimeError\u001b[0m: expand(torch.FloatTensor{[3, 21, 32]}, size=[3, 32]): the number of sizes provided (2) must be greater or equal to the number of dimensions in the tensor (3)"
     ]
    }
   ],
   "source": [
    "static_data = to_static_graph_dataset(dataset)"
   ]
  },
  {
   "cell_type": "code",
   "execution_count": 478,
   "metadata": {},
   "outputs": [
    {
     "data": {
      "text/plain": [
       "Data(x=[20, 520, 1], edge_index=[2, 102], edge_attr=[102], y=[20, 520, 1])"
      ]
     },
     "execution_count": 478,
     "metadata": {},
     "output_type": "execute_result"
    }
   ],
   "source": [
    "dataset_static"
   ]
  },
  {
   "cell_type": "code",
   "execution_count": 474,
   "metadata": {},
   "outputs": [
    {
     "data": {
      "text/plain": [
       "torch.Size([20, 520, 1])"
      ]
     },
     "execution_count": 474,
     "metadata": {},
     "output_type": "execute_result"
    }
   ],
   "source": [
    "y.shape"
   ]
  },
  {
   "cell_type": "code",
   "execution_count": 469,
   "metadata": {},
   "outputs": [
    {
     "data": {
      "text/plain": [
       "Data(x=[20, 1], edge_index=[2, 102], edge_attr=[102], y=[20])"
      ]
     },
     "execution_count": 469,
     "metadata": {},
     "output_type": "execute_result"
    }
   ],
   "source": [
    "dataset[0]"
   ]
  },
  {
   "cell_type": "code",
   "execution_count": 492,
   "metadata": {},
   "outputs": [],
   "source": [
    "train_dataset, test_dataset = temporal_signal_split(dataset, train_ratio=0.8)"
   ]
  },
  {
   "cell_type": "code",
   "execution_count": 453,
   "metadata": {},
   "outputs": [],
   "source": [
    "augmented = Augment(in_channels=dataset[0].num_node_features,include_time=True,layer_sizes=(2),kernel_size=1,include_original=True)\n",
    "signature = Signature(depth=3)\n",
    "\n",
    "path_in = torch.zeros([dataset[0].num_nodes,dataset.snapshot_count,dataset[0].num_node_features])\n",
    "path_out = torch.zeros([dataset[0].num_nodes,dataset.snapshot_count,1])\n",
    "\n",
    "for time,snapshot in enumerate(dataset):\n",
    "    path_in[:,time,:] = snapshot.x\n",
    "    path_out[:,time,:] = snapshot.y.unsqueeze(dim=-1)\n",
    "\n",
    "path_in = augmented(path_in)\n",
    "\n",
    "input_signature = signature(path_in)\n",
    "output_signature = signature(path_out)\n",
    "\n",
    "dataset_sig = Data(x=input_signature,y=output_signature,edge_index=train_dataset.edge_index)\n",
    "dataset_sig.edge_index = torch.tensor(dataset_sig.edge_index,dtype=torch.long)"
   ]
  },
  {
   "cell_type": "code",
   "execution_count": 457,
   "metadata": {},
   "outputs": [
    {
     "data": {
      "text/plain": [
       "tensor([[ 0.0286,  0.0000,  0.0297,  0.0517],\n",
       "        [ 0.3547,  0.0019, -0.2131, -0.0753],\n",
       "        [ 0.2954,  0.0039, -0.1689, -0.0522],\n",
       "        ...,\n",
       "        [-0.4755,  0.9961,  0.4048,  0.2479],\n",
       "        [-0.2086,  0.9981,  0.2062,  0.1440],\n",
       "        [ 1.2146,  1.0000, -0.8530, -0.4100]], grad_fn=<SliceBackward0>)"
      ]
     },
     "execution_count": 457,
     "metadata": {},
     "output_type": "execute_result"
    }
   ],
   "source": [
    "path_out[0,:,:]"
   ]
  },
  {
   "cell_type": "code",
   "execution_count": 456,
   "metadata": {},
   "outputs": [
    {
     "data": {
      "text/plain": [
       "tensor([[-0.0011,  0.0000,  0.0517,  0.0632],\n",
       "        [ 0.0286,  0.0019,  0.0297,  0.0517],\n",
       "        [ 0.3547,  0.0039, -0.2131, -0.0753],\n",
       "        ...,\n",
       "        [-0.2976,  0.9961,  0.2724,  0.1787],\n",
       "        [-0.4755,  0.9981,  0.4048,  0.2479],\n",
       "        [-0.2086,  1.0000,  0.2062,  0.1440]], grad_fn=<SliceBackward0>)"
      ]
     },
     "execution_count": 456,
     "metadata": {},
     "output_type": "execute_result"
    }
   ],
   "source": [
    "path_in[0,:,:]"
   ]
  },
  {
   "cell_type": "code",
   "execution_count": 432,
   "metadata": {},
   "outputs": [
    {
     "data": {
      "text/plain": [
       "tensor([ 0.2954,  1.0922, -1.5487,  1.1862, -0.6375, -0.1627,  1.7434,  0.6700,\n",
       "         1.8545, -0.0830, -0.0723, -0.2477, -0.1637,  0.3495, -0.1286,  0.1902,\n",
       "        -0.9437,  1.1855,  1.5630,  1.2647])"
      ]
     },
     "execution_count": 432,
     "metadata": {},
     "output_type": "execute_result"
    }
   ],
   "source": [
    "dataset[2].y"
   ]
  },
  {
   "cell_type": "code",
   "execution_count": 421,
   "metadata": {},
   "outputs": [],
   "source": [
    "class RegressionGNN(nn.Module):\n",
    "    def __init__(self, in_channels, hidden_channels,out_channels):\n",
    "        super(RegressionGNN, self).__init__()\n",
    "        self.conv1 = gnn.GCNConv(in_channels, hidden_channels)\n",
    "        self.conv2 = gnn.GCNConv(hidden_channels, out_channels)\n",
    "\n",
    "    def forward(self, x, edge_index,edge_weight=None):\n",
    "        x = F.relu(self.conv1(x, edge_index,edge_weight))\n",
    "        x = self.conv2(x, edge_index,edge_weight)\n",
    "        return x.flatten()"
   ]
  },
  {
   "cell_type": "code",
   "execution_count": 462,
   "metadata": {},
   "outputs": [],
   "source": [
    "import torch as torch\n",
    "import torch_geometric.nn as gnn\n",
    "import torch.nn.functional as F"
   ]
  },
  {
   "cell_type": "code",
   "execution_count": 464,
   "metadata": {},
   "outputs": [
    {
     "data": {
      "text/plain": [
       "torch.Size([20, 1])"
      ]
     },
     "execution_count": 464,
     "metadata": {},
     "output_type": "execute_result"
    }
   ],
   "source": [
    "dataset[0].x.shape"
   ]
  },
  {
   "cell_type": "code",
   "execution_count": null,
   "metadata": {},
   "outputs": [],
   "source": [
    "class SignatureGNN(nn.Module):\n",
    "    def __init__(self, in_channels, hidden_channels,out_channels, sig_depth):\n",
    "        super(SignatureGNN, self).__init__()\n",
    "        self.signature = Signature(depth=sig_depth)\n",
    "        self.augment = Augment(in_channels=in_channels,include_time=True,layer_sizes=(),kernel_size=1,include_original=True)\n",
    "        self.conv1 = gnn.GCNConv(in_channels, hidden_channels)\n",
    "    def forward(self, x, edge_index,edge_weight=None):\n",
    "        x = self.augment(x)\n",
    "        x = self.signature(x)\n",
    "        x = F.relu(self.conv1(x, edge_index,edge_weight))\n",
    "        return x.flatten()\n",
    "        "
   ]
  },
  {
   "cell_type": "code",
   "execution_count": 427,
   "metadata": {},
   "outputs": [
    {
     "data": {
      "text/plain": [
       "Data(x=[20, 3], edge_index=[2, 102], y=[20])"
      ]
     },
     "execution_count": 427,
     "metadata": {},
     "output_type": "execute_result"
    }
   ],
   "source": [
    "train_dataset_sig "
   ]
  },
  {
   "cell_type": "code",
   "execution_count": 458,
   "metadata": {},
   "outputs": [
    {
     "ename": "TypeError",
     "evalue": "empty() received an invalid combination of arguments - got (list, int), but expected one of:\n * (tuple of ints size, *, tuple of names names, torch.memory_format memory_format, torch.dtype dtype, torch.layout layout, torch.device device, bool pin_memory, bool requires_grad)\n * (tuple of ints size, *, torch.memory_format memory_format, Tensor out, torch.dtype dtype, torch.layout layout, torch.device device, bool pin_memory, bool requires_grad)\n",
     "output_type": "error",
     "traceback": [
      "\u001b[0;31m---------------------------------------------------------------------------\u001b[0m",
      "\u001b[0;31mTypeError\u001b[0m                                 Traceback (most recent call last)",
      "Cell \u001b[0;32mIn[458], line 6\u001b[0m\n\u001b[1;32m      3\u001b[0m learning_rate \u001b[38;5;241m=\u001b[39m \u001b[38;5;241m1e-5\u001b[39m\n\u001b[1;32m      4\u001b[0m hidden_channels \u001b[38;5;241m=\u001b[39m [\u001b[38;5;241m64\u001b[39m,\u001b[38;5;241m32\u001b[39m]\n\u001b[0;32m----> 6\u001b[0m model \u001b[38;5;241m=\u001b[39m \u001b[43mRegressionGNN\u001b[49m\u001b[43m(\u001b[49m\u001b[43min_channels\u001b[49m\u001b[38;5;241;43m=\u001b[39;49m\u001b[43mtrain_dataset_sig\u001b[49m\u001b[38;5;241;43m.\u001b[39;49m\u001b[43mnum_node_features\u001b[49m\u001b[43m,\u001b[49m\u001b[43m \u001b[49m\u001b[43mhidden_channels\u001b[49m\u001b[38;5;241;43m=\u001b[39;49m\u001b[43mhidden_channels\u001b[49m\u001b[43m,\u001b[49m\u001b[43m \u001b[49m\u001b[43mout_channels\u001b[49m\u001b[38;5;241;43m=\u001b[39;49m\u001b[38;5;241;43m1\u001b[39;49m\u001b[43m)\u001b[49m\n\u001b[1;32m      7\u001b[0m optimizer \u001b[38;5;241m=\u001b[39m torch\u001b[38;5;241m.\u001b[39moptim\u001b[38;5;241m.\u001b[39mAdam(model\u001b[38;5;241m.\u001b[39mparameters(), lr\u001b[38;5;241m=\u001b[39mlearning_rate)\n\u001b[1;32m      8\u001b[0m criterion \u001b[38;5;241m=\u001b[39m nn\u001b[38;5;241m.\u001b[39mMSELoss()\n",
      "Cell \u001b[0;32mIn[421], line 4\u001b[0m, in \u001b[0;36mRegressionGNN.__init__\u001b[0;34m(self, in_channels, hidden_channels, out_channels)\u001b[0m\n\u001b[1;32m      2\u001b[0m \u001b[38;5;28;01mdef\u001b[39;00m \u001b[38;5;21m__init__\u001b[39m(\u001b[38;5;28mself\u001b[39m, in_channels, hidden_channels,out_channels):\n\u001b[1;32m      3\u001b[0m     \u001b[38;5;28msuper\u001b[39m(RegressionGNN, \u001b[38;5;28mself\u001b[39m)\u001b[38;5;241m.\u001b[39m\u001b[38;5;21m__init__\u001b[39m()\n\u001b[0;32m----> 4\u001b[0m     \u001b[38;5;28mself\u001b[39m\u001b[38;5;241m.\u001b[39mconv1 \u001b[38;5;241m=\u001b[39m \u001b[43mgnn\u001b[49m\u001b[38;5;241;43m.\u001b[39;49m\u001b[43mGCNConv\u001b[49m\u001b[43m(\u001b[49m\u001b[43min_channels\u001b[49m\u001b[43m,\u001b[49m\u001b[43m \u001b[49m\u001b[43mhidden_channels\u001b[49m\u001b[43m)\u001b[49m\n\u001b[1;32m      5\u001b[0m     \u001b[38;5;28mself\u001b[39m\u001b[38;5;241m.\u001b[39mconv2 \u001b[38;5;241m=\u001b[39m gnn\u001b[38;5;241m.\u001b[39mGCNConv(hidden_channels, out_channels)\n",
      "File \u001b[0;32m/opt/homebrew/lib/python3.11/site-packages/torch_geometric/nn/conv/gcn_conv.py:191\u001b[0m, in \u001b[0;36mGCNConv.__init__\u001b[0;34m(self, in_channels, out_channels, improved, cached, add_self_loops, normalize, bias, **kwargs)\u001b[0m\n\u001b[1;32m    188\u001b[0m \u001b[38;5;28mself\u001b[39m\u001b[38;5;241m.\u001b[39m_cached_edge_index \u001b[38;5;241m=\u001b[39m \u001b[38;5;28;01mNone\u001b[39;00m\n\u001b[1;32m    189\u001b[0m \u001b[38;5;28mself\u001b[39m\u001b[38;5;241m.\u001b[39m_cached_adj_t \u001b[38;5;241m=\u001b[39m \u001b[38;5;28;01mNone\u001b[39;00m\n\u001b[0;32m--> 191\u001b[0m \u001b[38;5;28mself\u001b[39m\u001b[38;5;241m.\u001b[39mlin \u001b[38;5;241m=\u001b[39m \u001b[43mLinear\u001b[49m\u001b[43m(\u001b[49m\u001b[43min_channels\u001b[49m\u001b[43m,\u001b[49m\u001b[43m \u001b[49m\u001b[43mout_channels\u001b[49m\u001b[43m,\u001b[49m\u001b[43m \u001b[49m\u001b[43mbias\u001b[49m\u001b[38;5;241;43m=\u001b[39;49m\u001b[38;5;28;43;01mFalse\u001b[39;49;00m\u001b[43m,\u001b[49m\n\u001b[1;32m    192\u001b[0m \u001b[43m                  \u001b[49m\u001b[43mweight_initializer\u001b[49m\u001b[38;5;241;43m=\u001b[39;49m\u001b[38;5;124;43m'\u001b[39;49m\u001b[38;5;124;43mglorot\u001b[39;49m\u001b[38;5;124;43m'\u001b[39;49m\u001b[43m)\u001b[49m\n\u001b[1;32m    194\u001b[0m \u001b[38;5;28;01mif\u001b[39;00m bias:\n\u001b[1;32m    195\u001b[0m     \u001b[38;5;28mself\u001b[39m\u001b[38;5;241m.\u001b[39mbias \u001b[38;5;241m=\u001b[39m Parameter(torch\u001b[38;5;241m.\u001b[39mempty(out_channels))\n",
      "File \u001b[0;32m/opt/homebrew/lib/python3.11/site-packages/torch_geometric/nn/dense/linear.py:97\u001b[0m, in \u001b[0;36mLinear.__init__\u001b[0;34m(self, in_channels, out_channels, bias, weight_initializer, bias_initializer)\u001b[0m\n\u001b[1;32m     94\u001b[0m \u001b[38;5;28mself\u001b[39m\u001b[38;5;241m.\u001b[39mbias_initializer \u001b[38;5;241m=\u001b[39m bias_initializer\n\u001b[1;32m     96\u001b[0m \u001b[38;5;28;01mif\u001b[39;00m in_channels \u001b[38;5;241m>\u001b[39m \u001b[38;5;241m0\u001b[39m:\n\u001b[0;32m---> 97\u001b[0m     \u001b[38;5;28mself\u001b[39m\u001b[38;5;241m.\u001b[39mweight \u001b[38;5;241m=\u001b[39m Parameter(\u001b[43mtorch\u001b[49m\u001b[38;5;241;43m.\u001b[39;49m\u001b[43mempty\u001b[49m\u001b[43m(\u001b[49m\u001b[43mout_channels\u001b[49m\u001b[43m,\u001b[49m\u001b[43m \u001b[49m\u001b[43min_channels\u001b[49m\u001b[43m)\u001b[49m)\n\u001b[1;32m     98\u001b[0m \u001b[38;5;28;01melse\u001b[39;00m:\n\u001b[1;32m     99\u001b[0m     \u001b[38;5;28mself\u001b[39m\u001b[38;5;241m.\u001b[39mweight \u001b[38;5;241m=\u001b[39m torch\u001b[38;5;241m.\u001b[39mnn\u001b[38;5;241m.\u001b[39mparameter\u001b[38;5;241m.\u001b[39mUninitializedParameter()\n",
      "\u001b[0;31mTypeError\u001b[0m: empty() received an invalid combination of arguments - got (list, int), but expected one of:\n * (tuple of ints size, *, tuple of names names, torch.memory_format memory_format, torch.dtype dtype, torch.layout layout, torch.device device, bool pin_memory, bool requires_grad)\n * (tuple of ints size, *, torch.memory_format memory_format, Tensor out, torch.dtype dtype, torch.layout layout, torch.device device, bool pin_memory, bool requires_grad)\n"
     ]
    }
   ],
   "source": [
    "# hyperparameters\n",
    "num_epochs = 10000\n",
    "learning_rate = 1e-5\n",
    "hidden_channels = [64,32]\n",
    "\n",
    "model = RegressionGNN(in_channels=train_dataset_sig.num_node_features, hidden_channels=hidden_channels, out_channels=1)\n",
    "optimizer = torch.optim.Adam(model.parameters(), lr=learning_rate)\n",
    "criterion = nn.MSELoss()\n",
    "\n",
    "for epoch in range(num_epochs):\n",
    "    model.train()\n",
    "    optimizer.zero_grad()\n",
    "    out = model(train_dataset_sig.x, train_dataset_sig.edge_index)\n",
    "    loss = criterion(out, train_dataset_sig.y)\n",
    "    loss.backward()\n",
    "    optimizer.step()\n",
    "    with torch.no_grad():\n",
    "        model.eval()\n",
    "        out = model(test_dataset_sig.x, test_dataset_sig.edge_index)\n",
    "        test_loss = criterion(out, test_dataset_sig.y)\n",
    "    if epoch % 100 == 99:\n",
    "        print(f'Epoch: {epoch+1}/{num_epochs}, Train loss: {loss.item()}, Test loss: {test_loss.item()}')\n",
    "        "
   ]
  },
  {
   "cell_type": "markdown",
   "metadata": {},
   "source": [
    "## Flocking"
   ]
  },
  {
   "cell_type": "code",
   "execution_count": 47,
   "metadata": {},
   "outputs": [],
   "source": [
    "import yaml"
   ]
  },
  {
   "cell_type": "code",
   "execution_count": 54,
   "metadata": {},
   "outputs": [],
   "source": [
    "config_path = '../datasets/flock/config.yaml'\n",
    "with open(config_path, 'r') as file:\n",
    "    data = yaml.safe_load(file)"
   ]
  },
  {
   "cell_type": "code",
   "execution_count": 56,
   "metadata": {},
   "outputs": [
    {
     "data": {
      "text/plain": [
       "{'num_trials': 10,\n",
       " 'x_min': 0,\n",
       " 'x_max': 100,\n",
       " 'y_min': 0,\n",
       " 'y_max': 100,\n",
       " 'max_velocity': 5.0,\n",
       " 'radius': 10.0,\n",
       " 'dist_safe': 5.0,\n",
       " 'sigma': 10.0,\n",
       " 'damp_x': 0.99,\n",
       " 'damp_y': 0.99,\n",
       " 'num_iterations': 400,\n",
       " 'dt': 0.1,\n",
       " 'num_targets': 8,\n",
       " 'target_seed': 0,\n",
       " 'num_agents': 48,\n",
       " 'min_num_leaders': 3,\n",
       " 'max_num_leaders': 6,\n",
       " 'separation_weight': 5.0,\n",
       " 'alignment_weight': 1.0,\n",
       " 'cohesion_weight': 0.5,\n",
       " 'leader_weight': 1.0}"
      ]
     },
     "execution_count": 56,
     "metadata": {},
     "output_type": "execute_result"
    }
   ],
   "source": [
    "data"
   ]
  },
  {
   "cell_type": "markdown",
   "metadata": {},
   "source": [
    "## Traffic"
   ]
  },
  {
   "cell_type": "code",
   "execution_count": 1,
   "metadata": {},
   "outputs": [],
   "source": [
    "import pandas as pd\n",
    "data_path = '../datasets/traffic/metr-la.h5'\n",
    "from pandas import HDFStore"
   ]
  },
  {
   "cell_type": "code",
   "execution_count": 2,
   "metadata": {},
   "outputs": [],
   "source": [
    "store = HDFStore(data_path)\n",
    "df = store['df']\n",
    "store.close()"
   ]
  },
  {
   "cell_type": "markdown",
   "metadata": {},
   "source": [
    "Want to label each time period by "
   ]
  },
  {
   "cell_type": "code",
   "execution_count": 9,
   "metadata": {},
   "outputs": [
    {
     "data": {
      "text/plain": [
       "Timestamp('2012-03-01 00:00:00')"
      ]
     },
     "execution_count": 9,
     "metadata": {},
     "output_type": "execute_result"
    }
   ],
   "source": [
    "df.index[0]"
   ]
  },
  {
   "cell_type": "code",
   "execution_count": 11,
   "metadata": {},
   "outputs": [
    {
     "data": {
      "text/plain": [
       "True"
      ]
     },
     "execution_count": 11,
     "metadata": {},
     "output_type": "execute_result"
    }
   ],
   "source": [
    "from datetime import datetime, time\n",
    "from pandas import Timestamp\n",
    "\n",
    "# Example timestamp\n",
    "timestamp = Timestamp('2012-03-01 00:00:00')\n",
    "\n",
    "# Define time range\n",
    "start_time = time(0, 0)\n",
    "end_time = time(3, 0) \n",
    "\n",
    "start_time <= timestamp.time() < end_time"
   ]
  },
  {
   "cell_type": "code",
   "execution_count": 18,
   "metadata": {},
   "outputs": [
    {
     "data": {
      "text/html": [
       "<div>\n",
       "<style scoped>\n",
       "    .dataframe tbody tr th:only-of-type {\n",
       "        vertical-align: middle;\n",
       "    }\n",
       "\n",
       "    .dataframe tbody tr th {\n",
       "        vertical-align: top;\n",
       "    }\n",
       "\n",
       "    .dataframe thead th {\n",
       "        text-align: right;\n",
       "    }\n",
       "</style>\n",
       "<table border=\"1\" class=\"dataframe\">\n",
       "  <thead>\n",
       "    <tr style=\"text-align: right;\">\n",
       "      <th></th>\n",
       "      <th>773869</th>\n",
       "      <th>767541</th>\n",
       "      <th>767542</th>\n",
       "      <th>717447</th>\n",
       "      <th>717446</th>\n",
       "      <th>717445</th>\n",
       "      <th>773062</th>\n",
       "      <th>767620</th>\n",
       "      <th>737529</th>\n",
       "      <th>717816</th>\n",
       "      <th>...</th>\n",
       "      <th>772167</th>\n",
       "      <th>769372</th>\n",
       "      <th>774204</th>\n",
       "      <th>769806</th>\n",
       "      <th>717590</th>\n",
       "      <th>717592</th>\n",
       "      <th>717595</th>\n",
       "      <th>772168</th>\n",
       "      <th>718141</th>\n",
       "      <th>769373</th>\n",
       "    </tr>\n",
       "  </thead>\n",
       "  <tbody>\n",
       "    <tr>\n",
       "      <th>2012-03-01 00:00:00</th>\n",
       "      <td>64.375000</td>\n",
       "      <td>67.625000</td>\n",
       "      <td>67.125000</td>\n",
       "      <td>61.500000</td>\n",
       "      <td>66.875000</td>\n",
       "      <td>68.750000</td>\n",
       "      <td>65.125</td>\n",
       "      <td>67.125</td>\n",
       "      <td>59.625000</td>\n",
       "      <td>62.750000</td>\n",
       "      <td>...</td>\n",
       "      <td>45.625000</td>\n",
       "      <td>65.500</td>\n",
       "      <td>64.500000</td>\n",
       "      <td>66.428571</td>\n",
       "      <td>66.875</td>\n",
       "      <td>59.375000</td>\n",
       "      <td>69.000000</td>\n",
       "      <td>59.250000</td>\n",
       "      <td>69.000000</td>\n",
       "      <td>61.875</td>\n",
       "    </tr>\n",
       "    <tr>\n",
       "      <th>2012-03-01 00:05:00</th>\n",
       "      <td>62.666667</td>\n",
       "      <td>68.555556</td>\n",
       "      <td>65.444444</td>\n",
       "      <td>62.444444</td>\n",
       "      <td>64.444444</td>\n",
       "      <td>68.111111</td>\n",
       "      <td>65.000</td>\n",
       "      <td>65.000</td>\n",
       "      <td>57.444444</td>\n",
       "      <td>63.333333</td>\n",
       "      <td>...</td>\n",
       "      <td>50.666667</td>\n",
       "      <td>69.875</td>\n",
       "      <td>66.666667</td>\n",
       "      <td>58.555556</td>\n",
       "      <td>62.000</td>\n",
       "      <td>61.111111</td>\n",
       "      <td>64.444444</td>\n",
       "      <td>55.888889</td>\n",
       "      <td>68.444444</td>\n",
       "      <td>62.875</td>\n",
       "    </tr>\n",
       "    <tr>\n",
       "      <th>2012-03-01 00:10:00</th>\n",
       "      <td>64.000000</td>\n",
       "      <td>63.750000</td>\n",
       "      <td>60.000000</td>\n",
       "      <td>59.000000</td>\n",
       "      <td>66.500000</td>\n",
       "      <td>66.250000</td>\n",
       "      <td>64.500</td>\n",
       "      <td>64.250</td>\n",
       "      <td>63.875000</td>\n",
       "      <td>65.375000</td>\n",
       "      <td>...</td>\n",
       "      <td>44.125000</td>\n",
       "      <td>69.000</td>\n",
       "      <td>56.500000</td>\n",
       "      <td>59.250000</td>\n",
       "      <td>68.125</td>\n",
       "      <td>62.500000</td>\n",
       "      <td>65.625000</td>\n",
       "      <td>61.375000</td>\n",
       "      <td>69.857143</td>\n",
       "      <td>62.000</td>\n",
       "    </tr>\n",
       "    <tr>\n",
       "      <th>2012-03-01 00:15:00</th>\n",
       "      <td>0.000000</td>\n",
       "      <td>0.000000</td>\n",
       "      <td>0.000000</td>\n",
       "      <td>0.000000</td>\n",
       "      <td>0.000000</td>\n",
       "      <td>0.000000</td>\n",
       "      <td>0.000</td>\n",
       "      <td>0.000</td>\n",
       "      <td>0.000000</td>\n",
       "      <td>0.000000</td>\n",
       "      <td>...</td>\n",
       "      <td>0.000000</td>\n",
       "      <td>0.000</td>\n",
       "      <td>0.000000</td>\n",
       "      <td>0.000000</td>\n",
       "      <td>0.000</td>\n",
       "      <td>0.000000</td>\n",
       "      <td>0.000000</td>\n",
       "      <td>0.000000</td>\n",
       "      <td>0.000000</td>\n",
       "      <td>0.000</td>\n",
       "    </tr>\n",
       "    <tr>\n",
       "      <th>2012-03-01 00:20:00</th>\n",
       "      <td>0.000000</td>\n",
       "      <td>0.000000</td>\n",
       "      <td>0.000000</td>\n",
       "      <td>0.000000</td>\n",
       "      <td>0.000000</td>\n",
       "      <td>0.000000</td>\n",
       "      <td>0.000</td>\n",
       "      <td>0.000</td>\n",
       "      <td>0.000000</td>\n",
       "      <td>0.000000</td>\n",
       "      <td>...</td>\n",
       "      <td>0.000000</td>\n",
       "      <td>0.000</td>\n",
       "      <td>0.000000</td>\n",
       "      <td>0.000000</td>\n",
       "      <td>0.000</td>\n",
       "      <td>0.000000</td>\n",
       "      <td>0.000000</td>\n",
       "      <td>0.000000</td>\n",
       "      <td>0.000000</td>\n",
       "      <td>0.000</td>\n",
       "    </tr>\n",
       "  </tbody>\n",
       "</table>\n",
       "<p>5 rows × 207 columns</p>\n",
       "</div>"
      ],
      "text/plain": [
       "                        773869     767541     767542     717447     717446  \\\n",
       "2012-03-01 00:00:00  64.375000  67.625000  67.125000  61.500000  66.875000   \n",
       "2012-03-01 00:05:00  62.666667  68.555556  65.444444  62.444444  64.444444   \n",
       "2012-03-01 00:10:00  64.000000  63.750000  60.000000  59.000000  66.500000   \n",
       "2012-03-01 00:15:00   0.000000   0.000000   0.000000   0.000000   0.000000   \n",
       "2012-03-01 00:20:00   0.000000   0.000000   0.000000   0.000000   0.000000   \n",
       "\n",
       "                        717445  773062  767620     737529     717816  ...  \\\n",
       "2012-03-01 00:00:00  68.750000  65.125  67.125  59.625000  62.750000  ...   \n",
       "2012-03-01 00:05:00  68.111111  65.000  65.000  57.444444  63.333333  ...   \n",
       "2012-03-01 00:10:00  66.250000  64.500  64.250  63.875000  65.375000  ...   \n",
       "2012-03-01 00:15:00   0.000000   0.000   0.000   0.000000   0.000000  ...   \n",
       "2012-03-01 00:20:00   0.000000   0.000   0.000   0.000000   0.000000  ...   \n",
       "\n",
       "                        772167  769372     774204     769806  717590  \\\n",
       "2012-03-01 00:00:00  45.625000  65.500  64.500000  66.428571  66.875   \n",
       "2012-03-01 00:05:00  50.666667  69.875  66.666667  58.555556  62.000   \n",
       "2012-03-01 00:10:00  44.125000  69.000  56.500000  59.250000  68.125   \n",
       "2012-03-01 00:15:00   0.000000   0.000   0.000000   0.000000   0.000   \n",
       "2012-03-01 00:20:00   0.000000   0.000   0.000000   0.000000   0.000   \n",
       "\n",
       "                        717592     717595     772168     718141  769373  \n",
       "2012-03-01 00:00:00  59.375000  69.000000  59.250000  69.000000  61.875  \n",
       "2012-03-01 00:05:00  61.111111  64.444444  55.888889  68.444444  62.875  \n",
       "2012-03-01 00:10:00  62.500000  65.625000  61.375000  69.857143  62.000  \n",
       "2012-03-01 00:15:00   0.000000   0.000000   0.000000   0.000000   0.000  \n",
       "2012-03-01 00:20:00   0.000000   0.000000   0.000000   0.000000   0.000  \n",
       "\n",
       "[5 rows x 207 columns]"
      ]
     },
     "execution_count": 18,
     "metadata": {},
     "output_type": "execute_result"
    }
   ],
   "source": [
    "df.head()"
   ]
  },
  {
   "cell_type": "code",
   "execution_count": null,
   "metadata": {},
   "outputs": [],
   "source": []
  }
 ],
 "metadata": {
  "kernelspec": {
   "display_name": "Python 3",
   "language": "python",
   "name": "python3"
  },
  "language_info": {
   "codemirror_mode": {
    "name": "ipython",
    "version": 3
   },
   "file_extension": ".py",
   "mimetype": "text/x-python",
   "name": "python",
   "nbconvert_exporter": "python",
   "pygments_lexer": "ipython3",
   "version": "3.11.9"
  }
 },
 "nbformat": 4,
 "nbformat_minor": 2
}
